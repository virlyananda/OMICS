{
 "cells": [
  {
   "cell_type": "code",
   "execution_count": 1,
   "id": "511b848b",
   "metadata": {},
   "outputs": [],
   "source": [
    "# Import necessary libraries\n",
    "\n",
    "import pandas as pd\n",
    "import seaborn as sns\n",
    "import matplotlib.pyplot as plt\n",
    "import numpy as np\n"
   ]
  },
  {
   "cell_type": "markdown",
   "id": "1e303e7d",
   "metadata": {},
   "source": [
    "### Step 1:  Load the dataset\n",
    "\n",
    "The dataset is based on lung sample data. We will be using this dataset to perform our training and testing."
   ]
  },
  {
   "cell_type": "code",
   "execution_count": 2,
   "id": "f7a7eed5",
   "metadata": {},
   "outputs": [],
   "source": [
    "# Load the dataset on our working directory\n",
    "lung1 = pd.read_csv(\"GSE87340.csv.zip\")\n",
    "lung2 = pd.read_csv(\"GSE60052.csv.zip\")\n",
    "lung3 = pd.read_csv(\"GSE37764.csv.zip\")\n",
    "\n",
    "# Concatenate the dataset\n",
    "con_lungData = pd.concat([lung1, lung2, lung3])"
   ]
  },
  {
   "cell_type": "code",
   "execution_count": 3,
   "id": "bbee3dc7",
   "metadata": {},
   "outputs": [
    {
     "data": {
      "text/html": [
       "<div>\n",
       "<style scoped>\n",
       "    .dataframe tbody tr th:only-of-type {\n",
       "        vertical-align: middle;\n",
       "    }\n",
       "\n",
       "    .dataframe tbody tr th {\n",
       "        vertical-align: top;\n",
       "    }\n",
       "\n",
       "    .dataframe thead th {\n",
       "        text-align: right;\n",
       "    }\n",
       "</style>\n",
       "<table border=\"1\" class=\"dataframe\">\n",
       "  <thead>\n",
       "    <tr style=\"text-align: right;\">\n",
       "      <th></th>\n",
       "      <th>ID</th>\n",
       "      <th>class</th>\n",
       "      <th>ENSG00000000003</th>\n",
       "      <th>ENSG00000000005</th>\n",
       "      <th>ENSG00000000419</th>\n",
       "      <th>ENSG00000000457</th>\n",
       "      <th>ENSG00000000460</th>\n",
       "      <th>ENSG00000000938</th>\n",
       "      <th>ENSG00000000971</th>\n",
       "      <th>ENSG00000001036</th>\n",
       "    </tr>\n",
       "  </thead>\n",
       "  <tbody>\n",
       "    <tr>\n",
       "      <th>0</th>\n",
       "      <td>SRR4296063</td>\n",
       "      <td>Normal</td>\n",
       "      <td>10.728260</td>\n",
       "      <td>4.668142</td>\n",
       "      <td>10.278195</td>\n",
       "      <td>10.184036</td>\n",
       "      <td>8.215333</td>\n",
       "      <td>11.310861</td>\n",
       "      <td>13.178872</td>\n",
       "      <td>11.469473</td>\n",
       "    </tr>\n",
       "    <tr>\n",
       "      <th>1</th>\n",
       "      <td>SRR4296064</td>\n",
       "      <td>Tumor</td>\n",
       "      <td>11.332606</td>\n",
       "      <td>2.329988</td>\n",
       "      <td>10.127734</td>\n",
       "      <td>10.167900</td>\n",
       "      <td>8.174060</td>\n",
       "      <td>10.399611</td>\n",
       "      <td>13.208972</td>\n",
       "      <td>11.510862</td>\n",
       "    </tr>\n",
       "    <tr>\n",
       "      <th>2</th>\n",
       "      <td>SRR4296065</td>\n",
       "      <td>Normal</td>\n",
       "      <td>9.951182</td>\n",
       "      <td>4.264426</td>\n",
       "      <td>10.288874</td>\n",
       "      <td>10.093258</td>\n",
       "      <td>8.011385</td>\n",
       "      <td>11.814572</td>\n",
       "      <td>14.038661</td>\n",
       "      <td>11.651766</td>\n",
       "    </tr>\n",
       "    <tr>\n",
       "      <th>3</th>\n",
       "      <td>SRR4296066</td>\n",
       "      <td>Tumor</td>\n",
       "      <td>12.185680</td>\n",
       "      <td>2.798643</td>\n",
       "      <td>10.178582</td>\n",
       "      <td>10.401606</td>\n",
       "      <td>8.902321</td>\n",
       "      <td>10.294009</td>\n",
       "      <td>13.170466</td>\n",
       "      <td>11.546855</td>\n",
       "    </tr>\n",
       "    <tr>\n",
       "      <th>4</th>\n",
       "      <td>SRR4296067</td>\n",
       "      <td>Normal</td>\n",
       "      <td>9.875179</td>\n",
       "      <td>2.922071</td>\n",
       "      <td>10.444479</td>\n",
       "      <td>10.435843</td>\n",
       "      <td>8.692961</td>\n",
       "      <td>12.604934</td>\n",
       "      <td>13.538341</td>\n",
       "      <td>11.733252</td>\n",
       "    </tr>\n",
       "  </tbody>\n",
       "</table>\n",
       "</div>"
      ],
      "text/plain": [
       "           ID    class  ENSG00000000003  ENSG00000000005  ENSG00000000419  \\\n",
       "0  SRR4296063   Normal        10.728260         4.668142        10.278195   \n",
       "1  SRR4296064    Tumor        11.332606         2.329988        10.127734   \n",
       "2  SRR4296065   Normal         9.951182         4.264426        10.288874   \n",
       "3  SRR4296066    Tumor        12.185680         2.798643        10.178582   \n",
       "4  SRR4296067   Normal         9.875179         2.922071        10.444479   \n",
       "\n",
       "   ENSG00000000457  ENSG00000000460  ENSG00000000938  ENSG00000000971  \\\n",
       "0        10.184036         8.215333        11.310861        13.178872   \n",
       "1        10.167900         8.174060        10.399611        13.208972   \n",
       "2        10.093258         8.011385        11.814572        14.038661   \n",
       "3        10.401606         8.902321        10.294009        13.170466   \n",
       "4        10.435843         8.692961        12.604934        13.538341   \n",
       "\n",
       "   ENSG00000001036  \n",
       "0        11.469473  \n",
       "1        11.510862  \n",
       "2        11.651766  \n",
       "3        11.546855  \n",
       "4        11.733252  "
      ]
     },
     "execution_count": 3,
     "metadata": {},
     "output_type": "execute_result"
    }
   ],
   "source": [
    "# Obtain quick overview of the concatenated dataset: First 5 rows and 10 columns.\n",
    "con_lungData.iloc[:,0:10].head()"
   ]
  },
  {
   "cell_type": "markdown",
   "id": "1a7b2425",
   "metadata": {},
   "source": [
    "The **ID** shown above indicates the origin of the sample. <br>\n",
    "The **class** determine whether the sample is normal or tumor. <br>\n",
    "The **rest of the columns** indicate gene expression values for each sample. <br>"
   ]
  },
  {
   "cell_type": "markdown",
   "id": "25334e41",
   "metadata": {},
   "source": [
    "### Step 2: Pre-process the data\n",
    "In this section, we will perform data cleaning(wrangling), removing certain outliers and missing values."
   ]
  },
  {
   "cell_type": "code",
   "execution_count": 5,
   "id": "df3ad689",
   "metadata": {},
   "outputs": [
    {
     "data": {
      "text/plain": [
       "0"
      ]
     },
     "execution_count": 5,
     "metadata": {},
     "output_type": "execute_result"
    }
   ],
   "source": [
    "# Check on missing data\n",
    "con_lungData.isna().sum().sum()"
   ]
  },
  {
   "cell_type": "markdown",
   "id": "c94d3ba2",
   "metadata": {},
   "source": [
    "Based on the result shown above, we see no missing(NA) values."
   ]
  },
  {
   "cell_type": "markdown",
   "id": "52af126b",
   "metadata": {},
   "source": [
    "### Step 3: Perform EDA (Exploratory Data Analysis)"
   ]
  },
  {
   "cell_type": "code",
   "execution_count": 6,
   "id": "436e227c",
   "metadata": {},
   "outputs": [
    {
     "data": {
      "text/html": [
       "<div>\n",
       "<style scoped>\n",
       "    .dataframe tbody tr th:only-of-type {\n",
       "        vertical-align: middle;\n",
       "    }\n",
       "\n",
       "    .dataframe tbody tr th {\n",
       "        vertical-align: top;\n",
       "    }\n",
       "\n",
       "    .dataframe thead th {\n",
       "        text-align: right;\n",
       "    }\n",
       "</style>\n",
       "<table border=\"1\" class=\"dataframe\">\n",
       "  <thead>\n",
       "    <tr style=\"text-align: right;\">\n",
       "      <th></th>\n",
       "      <th>index</th>\n",
       "      <th>class</th>\n",
       "    </tr>\n",
       "  </thead>\n",
       "  <tbody>\n",
       "    <tr>\n",
       "      <th>0</th>\n",
       "      <td>Tumor</td>\n",
       "      <td>104</td>\n",
       "    </tr>\n",
       "    <tr>\n",
       "      <th>1</th>\n",
       "      <td>Normal</td>\n",
       "      <td>33</td>\n",
       "    </tr>\n",
       "    <tr>\n",
       "      <th>2</th>\n",
       "      <td>Normal</td>\n",
       "      <td>6</td>\n",
       "    </tr>\n",
       "    <tr>\n",
       "      <th>3</th>\n",
       "      <td>Tumor</td>\n",
       "      <td>6</td>\n",
       "    </tr>\n",
       "  </tbody>\n",
       "</table>\n",
       "</div>"
      ],
      "text/plain": [
       "     index  class\n",
       "0    Tumor    104\n",
       "1   Normal     33\n",
       "2   Normal      6\n",
       "3    Tumor      6"
      ]
     },
     "execution_count": 6,
     "metadata": {},
     "output_type": "execute_result"
    }
   ],
   "source": [
    "# Check the property of the dataset. Notice here we also convert the dataset into a dataframe for easy processing.\n",
    "lungdf = con_lungData['class'].value_counts().reset_index()\n",
    "lungdf"
   ]
  },
  {
   "cell_type": "markdown",
   "id": "a460884a",
   "metadata": {},
   "source": [
    "Based on table shown above, we can a total numbers of tumor and normal on each ID."
   ]
  },
  {
   "cell_type": "code",
   "execution_count": 7,
   "id": "bfdabbec",
   "metadata": {},
   "outputs": [
    {
     "data": {
      "text/plain": [
       "Text(0, 0.5, 'Class')"
      ]
     },
     "execution_count": 7,
     "metadata": {},
     "output_type": "execute_result"
    },
    {
     "data": {
      "image/png": "[encoded data removed]",
      "text/plain": [
       "<Figure size 432x288 with 1 Axes>"
      ]
     },
     "metadata": {
      "needs_background": "light"
     },
     "output_type": "display_data"
    }
   ],
   "source": [
    "# Here we utilize seaborn and matplotlib to visualize our current dataset\n",
    "sns.barplot(x = \"class\", y = \"index\", data=lungdf)\n",
    "plt.xlabel(\"Number of Samples\")\n",
    "plt.ylabel(\"Class\")"
   ]
  },
  {
   "cell_type": "code",
   "execution_count": 9,
   "id": "84fd87a2",
   "metadata": {},
   "outputs": [
    {
     "data": {
      "text/plain": [
       "{' Normal', ' Tumor', 'Normal', 'Tumor'}"
      ]
     },
     "execution_count": 9,
     "metadata": {},
     "output_type": "execute_result"
    }
   ],
   "source": [
    "# Check different classes closely\n",
    "set(con_lungData['class'])\n",
    "{' Normal', ' Tumor', 'Normal', 'Tumor'}"
   ]
  },
  {
   "cell_type": "code",
   "execution_count": 10,
   "id": "cdde1f3a",
   "metadata": {},
   "outputs": [],
   "source": [
    "# Fix data duplication so there will only be Normal and Tumor.\n",
    "con_lungData['class'] = con_lungData['class'].replace(' Normal','Normal')\n",
    "con_lungData['class'] = con_lungData['class'].replace(' Tumor', 'Tumor')"
   ]
  },
  {
   "cell_type": "code",
   "execution_count": 11,
   "id": "99c3c288",
   "metadata": {},
   "outputs": [
    {
     "data": {
      "text/plain": [
       "Text(0, 0.5, 'Class')"
      ]
     },
     "execution_count": 11,
     "metadata": {},
     "output_type": "execute_result"
    },
    {
     "data": {
      "image/png": "[encoded data removed]",
      "text/plain": [
       "<Figure size 432x288 with 1 Axes>"
      ]
     },
     "metadata": {
      "needs_background": "light"
     },
     "output_type": "display_data"
    }
   ],
   "source": [
    "# Visualize the distribution one more time with the adjustment\n",
    "# Here we utilize seaborn and matplotlib to visualize our current dataset\n",
    "lungdf2 = con_lungData['class'].value_counts().reset_index()\n",
    "sns.barplot(x = \"class\", y = \"index\", data=lungdf2)\n",
    "plt.xlabel(\"Number of Samples\")\n",
    "plt.ylabel(\"Class\")"
   ]
  },
  {
   "cell_type": "markdown",
   "id": "2241f077",
   "metadata": {},
   "source": [
    "### Step 4: Data transformation\n",
    "This step is to ensure there are no issues/anomalies present during data collection."
   ]
  },
  {
   "cell_type": "code",
   "execution_count": 12,
   "id": "f2801c2c",
   "metadata": {},
   "outputs": [],
   "source": [
    "# Apply melt\n",
    "con_lungData_m = pd.melt(con_lungData.iloc[:,1:12], id_vars = \"class\")"
   ]
  },
  {
   "cell_type": "code",
   "execution_count": 13,
   "id": "79715f00",
   "metadata": {},
   "outputs": [
    {
     "data": {
      "text/plain": [
       "Text(0, 0.5, 'Expression')"
      ]
     },
     "execution_count": 13,
     "metadata": {},
     "output_type": "execute_result"
    },
    {
     "data": {
      "image/png": "[encoded data removed]",
      "text/plain": [
       "<Figure size 432x288 with 1 Axes>"
      ]
     },
     "metadata": {
      "needs_background": "light"
     },
     "output_type": "display_data"
    }
   ],
   "source": [
    "# Apply seaborn for visualization\n",
    "ax = sns.boxplot(x = \"variable\", y = \"value\", data = con_lungData_m, hue = \"class\")\n",
    "ax.set_xticklabels(ax.get_xticklabels(), rotation=90)\n",
    "plt.xlabel(\"Genes\")\n",
    "plt.ylabel(\"Expression\")"
   ]
  },
  {
   "cell_type": "markdown",
   "id": "6c299ecb",
   "metadata": {},
   "source": [
    "Based on the result shown above, our dataset seems to be normalized so further normalization is not required."
   ]
  },
  {
   "cell_type": "markdown",
   "id": "82229aa2",
   "metadata": {},
   "source": [
    "### Step 5: Data Splitting/Partitioning\n",
    "\n",
    "In this section, we will start dividing the dataset for training and testing."
   ]
  },
  {
   "cell_type": "code",
   "execution_count": 14,
   "id": "fce678ee",
   "metadata": {},
   "outputs": [],
   "source": [
    "# Use scikit-learn to implement data partitioning.\n",
    "# 75:25 ratio is used where 75 is for training and 25 for testing.\n",
    "\n",
    "# Drop ID and class columns in the dataset. Conver it to a NumPy ndarray:\n",
    "x_data = con_lungData.drop(['class', 'ID'], axis = 1).values\n",
    "\n",
    "# Create a NumPy ndarray for the labels from the subset data. We focus on class because this will be our target variable:\n",
    "y_data = con_lungData['class'].values"
   ]
  },
  {
   "cell_type": "code",
   "execution_count": 15,
   "id": "8f924a7e",
   "metadata": {},
   "outputs": [
    {
     "data": {
      "text/plain": [
       "['Normal', 'Tumor']"
      ]
     },
     "execution_count": 15,
     "metadata": {},
     "output_type": "execute_result"
    }
   ],
   "source": [
    "# Apply one-hot encoding for the target feature\n",
    "classes = con_lungData['class'].unique().tolist()\n",
    "\n",
    "# Check our adjustment\n",
    "classes"
   ]
  },
  {
   "cell_type": "code",
   "execution_count": 16,
   "id": "045c2bd5",
   "metadata": {},
   "outputs": [],
   "source": [
    "# Convert classes into ordinals\n",
    "func = lambda x: classes.index(x)\n",
    "y_data = np.asarray([func(i) for i in y_data], dtype = \"float32\")"
   ]
  },
  {
   "cell_type": "code",
   "execution_count": 17,
   "id": "50a2922a",
   "metadata": {},
   "outputs": [
    {
     "data": {
      "text/plain": [
       "array([0., 1., 0., 1., 0., 1., 0., 1., 0., 1., 0., 1., 0., 1., 0., 1., 0.,\n",
       "       1., 0., 1., 0., 1., 0., 1., 0., 1., 0., 1., 0., 1., 0., 1., 0., 1.,\n",
       "       0., 1., 0., 1., 0., 1., 0., 1., 0., 1., 0., 1., 0., 1., 0., 1., 0.,\n",
       "       0., 0., 0., 0., 0., 0., 0., 1., 1., 1., 1., 1., 1., 1., 1., 1., 1.,\n",
       "       1., 1., 1., 1., 1., 1., 1., 1., 1., 1., 1., 1., 1., 1., 1., 1., 1.,\n",
       "       1., 1., 1., 1., 1., 1., 1., 1., 1., 1., 1., 1., 1., 1., 1., 1., 1.,\n",
       "       1., 1., 1., 1., 1., 1., 1., 1., 1., 1., 1., 1., 1., 1., 1., 1., 1.,\n",
       "       1., 1., 1., 1., 1., 1., 1., 1., 1., 1., 1., 1., 1., 1., 1., 1., 1.,\n",
       "       1., 0., 1., 0., 1., 0., 1., 0., 1., 0., 1., 0., 1.], dtype=float32)"
      ]
     },
     "execution_count": 17,
     "metadata": {},
     "output_type": "execute_result"
    }
   ],
   "source": [
    "# Check adjustment\n",
    "y_data"
   ]
  },
  {
   "cell_type": "markdown",
   "id": "95d926ce",
   "metadata": {},
   "source": [
    "Based on the result shown above, we have successfully converted \"Tumor\" and \"Normal\" to one-hot encoding where 0 refer to Normal and 1 refer to Tumor."
   ]
  },
  {
   "cell_type": "code",
   "execution_count": 18,
   "id": "1537e38d",
   "metadata": {},
   "outputs": [
    {
     "data": {
      "text/plain": [
       "((111, 58735), (38, 58735), (111,), (38,))"
      ]
     },
     "execution_count": 18,
     "metadata": {},
     "output_type": "execute_result"
    }
   ],
   "source": [
    "# Import necessary module\n",
    "from sklearn.linear_model import LogisticRegression\n",
    "from sklearn.model_selection import train_test_split\n",
    "\n",
    "# Split the data into training and test: random_state is just like seed so that it gives us same result when\n",
    "# shuffled. Stratify means to make sure the algorithm follows our customized ratio.\n",
    "X_train, X_test, y_train, y_test = train_test_split(x_data, y_data, random_state = 42, test_size = 0.25, stratify = y_data)\n",
    "\n",
    "X_train.shape, X_test.shape, y_train.shape, y_test.shape"
   ]
  },
  {
   "cell_type": "markdown",
   "id": "ab1b2630",
   "metadata": {},
   "source": [
    "Based on the results shown above, we can see that our train and test data are the same."
   ]
  },
  {
   "cell_type": "markdown",
   "id": "f59b4392",
   "metadata": {},
   "source": [
    "### Step 6: Train Model\n",
    "Logistic regression concept is used in this model."
   ]
  },
  {
   "cell_type": "code",
   "execution_count": 19,
   "id": "d4a5b128",
   "metadata": {},
   "outputs": [
    {
     "name": "stderr",
     "output_type": "stream",
     "text": [
      "/Users/virly/opt/anaconda3/envs/ML-Genomics/lib/python3.10/site-packages/sklearn/linear_model/_logistic.py:814: ConvergenceWarning: lbfgs failed to converge (status=1):\n",
      "STOP: TOTAL NO. of ITERATIONS REACHED LIMIT.\n",
      "\n",
      "Increase the number of iterations (max_iter) or scale the data as shown in:\n",
      "    https://scikit-learn.org/stable/modules/preprocessing.html\n",
      "Please also refer to the documentation for alternative solver options:\n",
      "    https://scikit-learn.org/stable/modules/linear_model.html#logistic-regression\n",
      "  n_iter_i = _check_optimize_result(\n"
     ]
    },
    {
     "data": {
      "text/plain": [
       "LogisticRegression()"
      ]
     },
     "execution_count": 19,
     "metadata": {},
     "output_type": "execute_result"
    }
   ],
   "source": [
    "model_lung1 = LogisticRegression()\n",
    "# Use the logistic regression model to fit the training dataset\n",
    "model_lung1.fit(X_train, y_train)"
   ]
  },
  {
   "cell_type": "markdown",
   "id": "b3dd9b4c",
   "metadata": {},
   "source": [
    "### Step 7: Evaluate Model"
   ]
  },
  {
   "cell_type": "code",
   "execution_count": 20,
   "id": "b8c04180",
   "metadata": {},
   "outputs": [
    {
     "data": {
      "text/plain": [
       "array([1.], dtype=float32)"
      ]
     },
     "execution_count": 20,
     "metadata": {},
     "output_type": "execute_result"
    }
   ],
   "source": [
    "# Run the trained model on the test data\n",
    "pred = model_lung1.predict(X_test[12].reshape(1,-1))\n",
    "pred"
   ]
  },
  {
   "cell_type": "markdown",
   "id": "bbbe41b3",
   "metadata": {},
   "source": [
    "Based on our prediction, we got .1 referring to tumor."
   ]
  },
  {
   "cell_type": "code",
   "execution_count": 22,
   "id": "a3c80d32",
   "metadata": {},
   "outputs": [
    {
     "name": "stdout",
     "output_type": "stream",
     "text": [
      "0.9736842105263158\n"
     ]
    }
   ],
   "source": [
    "# Apply the trained model to predict all features\n",
    "all_pred_lung = model_lung1.predict(X_test)\n",
    "\n",
    "# Check result with accuracy score\n",
    "print(model_lung1.score(X_test, y_test))"
   ]
  },
  {
   "cell_type": "code",
   "execution_count": 23,
   "id": "84df9806",
   "metadata": {},
   "outputs": [
    {
     "data": {
      "image/png": "[encoded data removed]",
      "text/plain": [
       "<Figure size 432x288 with 2 Axes>"
      ]
     },
     "metadata": {
      "needs_background": "light"
     },
     "output_type": "display_data"
    }
   ],
   "source": [
    "# Apply confusion matrix\n",
    "from sklearn.metrics import confusion_matrix, ConfusionMatrixDisplay, classification_report\n",
    "\n",
    "cm = confusion_matrix(y_test, all_pred_lung)\n",
    "disp = ConfusionMatrixDisplay(confusion_matrix=cm, display_labels = [\"Normal\", \"Tumor\"])\n",
    "disp.plot()\n",
    "plt.show()"
   ]
  },
  {
   "cell_type": "markdown",
   "id": "201407a8",
   "metadata": {},
   "source": [
    "Based on the evaluation shown above, Confusion Matrix evaluation shows 1 FP which makes our model quite accurate."
   ]
  },
  {
   "cell_type": "code",
   "execution_count": 24,
   "id": "5bf134a6",
   "metadata": {},
   "outputs": [
    {
     "data": {
      "text/plain": [
       "'              precision    recall  f1-score   support\\n\\n         0.0       1.00      0.90      0.95        10\\n         1.0       0.97      1.00      0.98        28\\n\\n    accuracy                           0.97        38\\n   macro avg       0.98      0.95      0.96        38\\nweighted avg       0.97      0.97      0.97        38\\n'"
      ]
     },
     "execution_count": 24,
     "metadata": {},
     "output_type": "execute_result"
    }
   ],
   "source": [
    "# Apply classification report to measure accuracy test\n",
    "classification_report(y_test, all_pred_lung)"
   ]
  }
 ],
 "metadata": {
  "kernelspec": {
   "display_name": "ML-Genomics",
   "language": "python",
   "name": "ml-genomics"
  },
  "language_info": {
   "codemirror_mode": {
    "name": "ipython",
    "version": 3
   },
   "file_extension": ".py",
   "mimetype": "text/x-python",
   "name": "python",
   "nbconvert_exporter": "python",
   "pygments_lexer": "ipython3",
   "version": "3.10.11"
  }
 },
 "nbformat": 4,
 "nbformat_minor": 5
}
